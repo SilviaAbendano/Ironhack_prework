{
 "cells": [
  {
   "cell_type": "markdown",
   "source": [
    "## Data structures continued"
   ],
   "metadata": {}
  },
  {
   "cell_type": "markdown",
   "source": [
    "## Dictionaries "
   ],
   "metadata": {}
  },
  {
   "cell_type": "markdown",
   "source": [
    "### Exercises"
   ],
   "metadata": {}
  },
  {
   "cell_type": "markdown",
   "source": [
    "1. Use the dictionary given below. This is a dictionary that shows the frequency of the words in a text paragraph. The keys are the words, and the values are its frequency.\n"
   ],
   "metadata": {}
  },
  {
   "cell_type": "code",
   "execution_count": 21,
   "source": [
    "word_freq = {'love': 25, 'conversation': 1, 'every': 6, \"we're\": 1, 'plate': 1, 'sour': 1, 'jukebox': 1, 'now': 11, 'taxi': 1, 'fast': 1, 'bag': 1, 'man': 1, 'push': 3, 'baby': 14, 'going': 1, 'you': 16, \"don't\": 2, 'one': 1, 'mind': 2, 'backseat': 1, 'friends': 1, 'then': 3, 'know': 2}"
   ],
   "outputs": [],
   "metadata": {}
  },
  {
   "cell_type": "markdown",
   "source": [
    "Answer the following questions:   \n",
    "\n",
    "- How many *key-value* pairs are in this dictionary?\n",
    "- What *keys* are present in this dictionary? \n",
    "- What is the frequency of following words in the dictionary: \n",
    "    - 'friends'\n",
    "    - 'taxi' \n",
    "    - 'jukebox'\n",
    "- Is the word `begin` present in the dictionary?\n",
    "- Add the following words and their frequencies to the dictionary:\n",
    "        - 'begin': 1\n",
    "        - 'start': 2\n",
    "        - 'over': 1\n",
    "        - 'body': 17\n",
    "- Use the following code to convert the result from `word_freq.keys()` to a list: `list(word_freq.keys())`.\n",
    "  - Store the results of the above code in a variable called `word`.\n",
    "  - What is the first word in the dictionary? What is the frequency of that word?\n",
    "  - What is the last word in the dictionary? What is the frequency of that word?"
   ],
   "metadata": {}
  },
  {
   "cell_type": "code",
   "execution_count": 38,
   "source": [
    "# your answer here\n",
    "\n",
    "word_freq = {'love': 25, 'conversation': 1, 'every': 6, \"we're\": 1, 'plate': 1, 'sour': 1, 'jukebox': 1, 'now': 11, 'taxi': 1, 'fast': 1, 'bag': 1, 'man': 1, 'push': 3, 'baby': 14, 'going': 1, 'you': 16, \"don't\": 2, 'one': 1, 'mind': 2, 'backseat': 1, 'friends': 1, 'then': 3, 'know': 2}\n",
    "\n",
    "#How many *key-value* pairs are in this dictionary?\n",
    "\n",
    "print(len(word_freq))\n",
    "\n",
    "# What *keys* are present in this dictionary? \n",
    "\n",
    "print(word_freq.keys())\n",
    "\n",
    "# What is the frequency of following words in the dictionary: 'friends','taxi'and'jukebox'\n",
    "\n",
    "print(\"Friends is\",(word_freq.get('friends')),\"time in the dictionary\")\n",
    "print(\"taxi is\",(word_freq.get('friends')),\"time in the dictionary\")\n",
    "print(\"jukebox is\",(word_freq.get('friends')),\"time in the dictionary\")\n",
    "\n",
    "# Is the word `begin` present in the dictionary?\n",
    "\n",
    "key=\"begin\"\n",
    "\n",
    "if key in word_freq.keys():\n",
    "    print(\"begin exists\")    \n",
    "else:\n",
    "    print(\"begin does not exist\")\n",
    "\n",
    "# Add the following words and their frequencies to the dictionary: ('begin': 1,'start': 2,'over': 1,'body': 17)\n",
    "\n",
    "new_word_freq = {'begin': 1,'start': 2,'over': 1,'body': 17 }\n",
    "word_freq.update(new_word_freq)\n",
    "print(word_freq)\n",
    "print(\"begin is\",(word_freq.get('friends')),\"time in the dictionary\",\",\" \"start is\",(word_freq.get('friends')),\"time in the dictionary\", \",\",\"over is\",(word_freq.get('friends')),\"time in the dictionary\", \"and\",\"body is\",(word_freq.get('friends')),\"time in the dictionary\")\n",
    "\n",
    "\n",
    "# Use the following code to convert the result from `word_freq.keys()` to a list: `list(word_freq.keys())`.\n",
    "  # - Store the results of the above code in a variable called `word`.\n",
    "    \n",
    "word = list(word_freq.keys())\n",
    "type(word)\n",
    "\n",
    "  # - What is the first word in the dictionary? What is the frequency of that word?\n",
    "    \n",
    "print(word[0])\n",
    "\n",
    "  # - What is the last word in the dictionary? What is the frequency of that word?\n",
    "\n",
    "print(word[-1])\n",
    "word.count('body')\n",
    "\n"
   ],
   "outputs": [
    {
     "output_type": "stream",
     "name": "stdout",
     "text": [
      "23\n",
      "dict_keys(['love', 'conversation', 'every', \"we're\", 'plate', 'sour', 'jukebox', 'now', 'taxi', 'fast', 'bag', 'man', 'push', 'baby', 'going', 'you', \"don't\", 'one', 'mind', 'backseat', 'friends', 'then', 'know'])\n",
      "Friends is 1 time in the dictionary\n",
      "taxi is 1 time in the dictionary\n",
      "jukebox is 1 time in the dictionary\n",
      "begin does not exist\n",
      "{'love': 25, 'conversation': 1, 'every': 6, \"we're\": 1, 'plate': 1, 'sour': 1, 'jukebox': 1, 'now': 11, 'taxi': 1, 'fast': 1, 'bag': 1, 'man': 1, 'push': 3, 'baby': 14, 'going': 1, 'you': 16, \"don't\": 2, 'one': 1, 'mind': 2, 'backseat': 1, 'friends': 1, 'then': 3, 'know': 2, 'begin': 1, 'start': 2, 'over': 1, 'body': 17}\n",
      "begin is 1 time in the dictionary ,start is 1 time in the dictionary , over is 1 time in the dictionary and body is 1 time in the dictionary\n",
      "love\n",
      "body\n"
     ]
    },
    {
     "output_type": "execute_result",
     "data": {
      "text/plain": [
       "1"
      ]
     },
     "metadata": {},
     "execution_count": 38
    }
   ],
   "metadata": {}
  },
  {
   "cell_type": "markdown",
   "source": [
    "2. Can a dictionary have two key-value pairs with the same key?"
   ],
   "metadata": {}
  },
  {
   "cell_type": "code",
   "execution_count": null,
   "source": [
    "# your answer here\n",
    "No, each key dictionary is unique"
   ],
   "outputs": [],
   "metadata": {}
  },
  {
   "cell_type": "markdown",
   "source": [
    "3. Can a dictionary have two key-value pairs with the same value but different keys?"
   ],
   "metadata": {}
  },
  {
   "cell_type": "code",
   "execution_count": 24,
   "source": [
    "# your answer here\n",
    "Yes, values can be equal but keys have to be unique"
   ],
   "outputs": [],
   "metadata": {}
  }
 ],
 "metadata": {
  "kernelspec": {
   "display_name": "Python 3",
   "language": "python",
   "name": "python3"
  },
  "language_info": {
   "codemirror_mode": {
    "name": "ipython",
    "version": 3
   },
   "file_extension": ".py",
   "mimetype": "text/x-python",
   "name": "python",
   "nbconvert_exporter": "python",
   "pygments_lexer": "ipython3",
   "version": "3.8.8"
  }
 },
 "nbformat": 4,
 "nbformat_minor": 2
}