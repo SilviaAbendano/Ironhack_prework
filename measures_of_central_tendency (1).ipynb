{
 "cells": [
  {
   "cell_type": "markdown",
   "source": [
    "## Measures of Central Tendency"
   ],
   "metadata": {}
  },
  {
   "cell_type": "markdown",
   "source": [
    "### Exercise  "
   ],
   "metadata": {}
  },
  {
   "cell_type": "raw",
   "source": [
    "1. We saw that a dataset can have more than one mode. But can a dataset have more than one median? True or False\n",
    "\n",
    "2. Given the data in the list:\n",
    " data = [4,  7,  5,  9,  8,  6,  7,  7,  8,  5,  6,  9,  8, 5,  8,  7,  4,  7, 3,  6,  8,  9,  7,  6,  9]\n",
    " \n",
    " What is the range, mean, median, and mode of the dataset. \n",
    " Create a new dictionary called `data_dictionary` and store the above answers as key value pairs in the dictionary. Print the dictionary. \n",
    " \n",
    "3. To find which statistic do you have to arrange the data in an ascending order?\n",
    "4. How do you find the median when there are even number of data points?\n",
    "5. What is the range for the data set\n",
    "    points = [-4,  17,  25,  19,  6,  11,  7]\n",
    "    \n",
    "6. What are outliers in a dataset? Which of the three - Mean, Median, and Mode - is more suseptible to change with presence of outliers in the data?\n",
    "\n"
   ],
   "metadata": {}
  },
  {
   "cell_type": "code",
   "execution_count": 44,
   "source": [
    "#1. We saw that a dataset can have more than one mode. But can a dataset have more than one median? True or False\n",
    "\n",
    "#Answer: True, if is possible to have two numbers in the middle of the data set. In that case, the median will be calculated by summing up the two numbers and dividing it by 2\n",
    "\n",
    "#2. Given the data in the list:\n",
    "\n",
    "import statistics as stats\n",
    "import numpy as np\n",
    "import pandas as pd\n",
    "import matplotlib.pyplot as plt\n",
    "\n",
    "data = [4,  7,  5,  9,  8,  6,  7,  7,  8,  5,  6,  9,  8, 5,  8,  7,  4,  7, 3,  6,  8,  9,  7,  6,  9]\n",
    "data_dictionary = {}\n",
    "\n",
    "np.sort(data)\n",
    "\n",
    "for i in data:\n",
    "    mean = stats.mean(data)\n",
    "    data_dictionary[\"mean\"] = mean\n",
    "    median = stats.median(data)\n",
    "    data_dictionary[\"median\"] = median\n",
    "    mode = stats.mode(data)\n",
    "    data_dictionary[\"mode\"] = mode\n",
    "    range = max(data) - min(data)\n",
    "    data_dictionary[\"range\"] = range\n",
    "print(data_dictionary)\n",
    "\n",
    " \n",
    "#3. To find which statistic do you have to arrange the data in an ascending order?\n",
    "\n",
    "#Answer: to find the median\n",
    "\n",
    "#4. How do you find the median when there are even number of data points?\n",
    "\n",
    "#Answer: the median will be calculated by summing up the two numbers and dividing it by 2\n",
    "\n",
    "#5. What is the range for the data set\n",
    "points = [-4,  17,  25,  19,  6,  11,  7]\n",
    "range =  max(points) - min(points)\n",
    "print(range)\n",
    "    \n",
    "#6. What are outliers in a dataset? Which of the three - Mean, Median, and Mode - is more suseptible to change with presence of outliers in the data?\n",
    "#Answer: as observed in the box plot the values 25 and -4 are outliers as they fall outside the Q1 and Q3 quartile. If these were removed the mean will be highly affected.\n",
    "\n",
    "plt.boxplot(points)\n",
    "fig = plt.figure(figsize =(10, 7))\n",
    "plt.show()\n",
    "\n",
    "print(stats.mean(points)) "
   ],
   "outputs": [
    {
     "output_type": "stream",
     "name": "stdout",
     "text": [
      "{'mean': 6.72, 'median': 7, 'mode': 7, 'range': 6}\n",
      "29\n"
     ]
    },
    {
     "output_type": "display_data",
     "data": {
      "image/png": "[encoded data removed]",
      "text/plain": [
       "<Figure size 432x288 with 1 Axes>"
      ]
     },
     "metadata": {
      "needs_background": "light"
     }
    },
    {
     "output_type": "display_data",
     "data": {
      "text/plain": [
       "<Figure size 720x504 with 0 Axes>"
      ]
     },
     "metadata": {}
    },
    {
     "output_type": "stream",
     "name": "stdout",
     "text": [
      "11.571428571428571\n"
     ]
    }
   ],
   "metadata": {}
  },
  {
   "cell_type": "code",
   "execution_count": null,
   "source": [],
   "outputs": [],
   "metadata": {}
  }
 ],
 "metadata": {
  "kernelspec": {
   "display_name": "Python 3",
   "language": "python",
   "name": "python3"
  },
  "language_info": {
   "codemirror_mode": {
    "name": "ipython",
    "version": 3
   },
   "file_extension": ".py",
   "mimetype": "text/x-python",
   "name": "python",
   "nbconvert_exporter": "python",
   "pygments_lexer": "ipython3",
   "version": "3.8.8"
  }
 },
 "nbformat": 4,
 "nbformat_minor": 2
}