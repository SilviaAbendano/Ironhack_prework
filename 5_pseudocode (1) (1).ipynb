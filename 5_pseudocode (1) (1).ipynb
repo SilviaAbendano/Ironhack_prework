{
 "cells": [
  {
   "cell_type": "markdown",
   "source": [
    "### Exercise - Writing Pseudocode"
   ],
   "metadata": {}
  },
  {
   "cell_type": "markdown",
   "source": [
    "#### Duel Of Sorcerers"
   ],
   "metadata": {}
  },
  {
   "cell_type": "markdown",
   "source": [
    "You are witnessing an epic battle between two powerful sorcerers: Gandalf and Saruman. \n",
    "Each sorcerer has 10 spells of variable power in their mind and they are going to throw them one after the other. \n",
    "The winner of the duel will be the one who wins more of those clashes between spells. Spells are represented as a list of 10 integers whose value equals the power of the spell.\n",
    "\n",
    "```shell\n",
    "gandalf = [10, 11, 13, 30, 22, 11, 10, 33, 22, 22]\n",
    "saruman = [23, 66, 12, 43, 12, 10, 44, 23, 12, 17]\n",
    "```\n",
    "\n",
    "For example:\n",
    "The first clash is won by Saruman: 10 against 23, wins 23\n",
    "The second clash wins Saruman: 11 against 66, wins 66\n",
    "etc.\n",
    "\n",
    "You will create two variables, one for each sorcerer, where the sum of clashes wins will be stored. Depending on which variable is greater at the end of the duel, you will show one of the following three results on the screen:\n",
    "- Gandalf wins\n",
    "- Saruman wins\n",
    "- Tie\n",
    "\n",
    "Write a pseudocode to solve this problem and then code it!"
   ],
   "metadata": {}
  },
  {
   "cell_type": "markdown",
   "source": [
    "Hints to solve this problem: \n",
    "\n",
    "- This is a tournament of a fixed length ( as many times as elements in any list, both have the same amount of elements), therefore, you know beforehand **how many times** Gandalf and Saruman will be fighting each other. Can you figure out the type of loop? \n",
    "\n",
    "- Moreover, you will have to **compare** the elements of each list in each fight. How you can make a comparison? How you can retrieve each element of both lists?\n",
    "\n",
    "- Then, you will need to keep track of how many times each sorcerer won any fight. That is **counting!!**, you will need some variables to store this progress.\n",
    "\n",
    "- Finally, at the end of the tournament, you will need to **compare** the number of wins of each sorcerer and make a decision based on this comparison.\n",
    "\n",
    "Good luck!"
   ],
   "metadata": {}
  },
  {
   "cell_type": "markdown",
   "source": [
    "#pseudocode\n",
    "\n",
    "spells = zip(g, s)\n",
    "\n",
    "\n",
    "g_wins new variable\n",
    "s_wins new variable\n",
    "tie new variable\n",
    "\n",
    "g_wins = True\n",
    "if g > s\n",
    "print gandalf wins\n",
    "\n",
    "s_wins = True\n",
    "if g < s\n",
    "print saruman wins\n",
    "\n",
    "tie = True\n",
    "if g==s\n",
    "print it is a tie\n",
    "\n"
   ],
   "metadata": {}
  },
  {
   "cell_type": "code",
   "execution_count": 5,
   "source": [
    "#1. Create two variables called gandalf and saruman and assign them the spell power lists. \n",
    "#Create a variable called spells to store the number of spells that the sorcerers cast.\n",
    "\n",
    "g = [10, 11, 13, 30, 22, 11, 10, 33, 22, 22]\n",
    "s = [23, 66, 12, 43, 12, 10, 44, 23, 12, 17]\n",
    "spells = zip(g,s)\n",
    "\n",
    "print(list(spells))\n",
    "\n",
    "#2. Create 3 variables called gandalf_wins, saruman_wins and tie. Set both of them to 0. You will use these variables to count the number of clashes each sorcerer wins\n",
    "\n",
    "g_wins = 0\n",
    "s_win = 0\n",
    "tie = 0\n",
    "\n",
    "#3. Using the lists of spells of both sorcerers, update variables gandalf_wins, saruman_wins, tie to count the number of times each sorcerer wins a clash.\n",
    "\n",
    "for g,s in zip(g,s):\n",
    "    if g > s:\n",
    "        g_wins += 1\n",
    "    elif g < s:\n",
    "        s_win += 1\n",
    "    else:\n",
    "        tie += 1\n",
    "        \n",
    "    \n",
    "#4.Who won the battle? Print Gandalf wins, Saruman wins or tie depending on the result\n",
    "\n",
    "print(\"gandalf won\",g_wins, \"times\")\n",
    "print(\"saruman won\",s_win, \"times\")\n",
    "print(\"there were\",tie,\" ties\")\n"
   ],
   "outputs": [
    {
     "output_type": "stream",
     "name": "stdout",
     "text": [
      "[(10, 23), (11, 66), (13, 12), (30, 43), (22, 12), (11, 10), (10, 44), (33, 23), (22, 12), (22, 17)]\n",
      "gandalf won 6 times\n",
      "saruman won 4 times\n",
      "there were 0  ties\n"
     ]
    }
   ],
   "metadata": {}
  },
  {
   "cell_type": "code",
   "execution_count": null,
   "source": [],
   "outputs": [],
   "metadata": {}
  }
 ],
 "metadata": {
  "kernelspec": {
   "display_name": "Python 3",
   "language": "python",
   "name": "python3"
  },
  "language_info": {
   "codemirror_mode": {
    "name": "ipython",
    "version": 3
   },
   "file_extension": ".py",
   "mimetype": "text/x-python",
   "name": "python",
   "nbconvert_exporter": "python",
   "pygments_lexer": "ipython3",
   "version": "3.8.8"
  }
 },
 "nbformat": 4,
 "nbformat_minor": 2
}