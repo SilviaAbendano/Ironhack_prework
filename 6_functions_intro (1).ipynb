{
 "cells": [
  {
   "cell_type": "code",
   "execution_count": null,
   "source": [
    "# Intro to functions"
   ],
   "outputs": [],
   "metadata": {}
  },
  {
   "cell_type": "markdown",
   "source": [
    "# Exercise "
   ],
   "metadata": {}
  },
  {
   "cell_type": "markdown",
   "source": [
    "\n",
    "Create a \"generation calculator\" to help determine the generation you belong to according to your birth year. Follow the below information:\n",
    "\n",
    "```\n",
    "+-----------------+---------------------+\n",
    "|  birth_year     |      generation     |\n",
    "+-----------------+---------------------+\n",
    "|     < 1949      |  silent generation  |\n",
    "+-----------------+---------------------+\n",
    "|     < 1969      |     baby boomer     |\n",
    "+-----------------+---------------------+\n",
    "|     < 1981      |     X generation    | \n",
    "+-----------------+---------------------+\n",
    "|     < 1994      |      millennial     | \n",
    "+-----------------+---------------------+\n",
    "|     > 1994      |    Z generation     | \n",
    "+-----------------+---------------------+\n",
    "```\n",
    "\n",
    "Let's add some \"fake\" users whose data we will be using to validate if the function gives us the correct and expected result."
   ],
   "metadata": {}
  },
  {
   "cell_type": "code",
   "execution_count": 14,
   "source": [
    "# Generation What?\n",
    "\n",
    "name1 = \"Jonh\"\n",
    "birth_year1 = 1989\n",
    "\n",
    "name2 = \"Mari\"\n",
    "birth_year2 = 1995\n",
    "\n",
    "name3 = \"Mich\"\n",
    "birth_year3 = 1960"
   ],
   "outputs": [],
   "metadata": {}
  },
  {
   "cell_type": "markdown",
   "source": [
    "1. Define the function generation calculator & add both parameters to represent both variables we are going to need in this function.\n",
    "2. Determine generation as a birth year (we need to know the year to be able to calculate)\n",
    "3. Print the results\n",
    "4. Write conditionals for each generation. For example, if you were born before 1949 you would be a \"silent generation\".\n",
    "5. Define variables for each result\n",
    "6. Show results"
   ],
   "metadata": {}
  },
  {
   "cell_type": "code",
   "execution_count": 3,
   "source": [
    "name1 = \"Jonh\"\n",
    "birth_year1 = 1989\n",
    "\n",
    "name2 = \"Mari\"\n",
    "birth_year2 = 1995\n",
    "\n",
    "name3 = \"Mich\"\n",
    "birth_year3 = 1960\n",
    "\n",
    "\n",
    "def generation_calculator (name, birth_year):\n",
    "    generation = birth_year\n",
    "    print (\"Generation: \")\n",
    "    print (generation)\n",
    "    if generation < 1949:\n",
    "        return name + \" is silent generation\"\n",
    "    if generation < 1969:\n",
    "        return name + \" is baby boomer\"\n",
    "    if generation < 1981:\n",
    "        return name + \" is X generation\"\n",
    "    if generation < 1994:\n",
    "        return name + \" is millennial\"\n",
    "    else:\n",
    "        return name + \" is Z generation\"\n",
    "    \n",
    "result1 = generation_calculator (name1, birth_year1)\n",
    "result2 = generation_calculator (name2, birth_year2)\n",
    "result3 = generation_calculator (name3, birth_year3)\n",
    "\n",
    "\n",
    "print (result1)\n",
    "print (result2)\n",
    "print (result3)"
   ],
   "outputs": [
    {
     "output_type": "stream",
     "name": "stdout",
     "text": [
      "Generation: \n",
      "1989\n",
      "Generation: \n",
      "1995\n",
      "Generation: \n",
      "1960\n",
      "Jonh is millennial\n",
      "Mari is Z generation\n",
      "Mich is baby boomer\n"
     ]
    }
   ],
   "metadata": {}
  },
  {
   "cell_type": "markdown",
   "source": [
    "### Additional resources "
   ],
   "metadata": {}
  },
  {
   "cell_type": "markdown",
   "source": [
    "https://www.tutorialspoint.com/python/python_functions.htm"
   ],
   "metadata": {}
  }
 ],
 "metadata": {
  "kernelspec": {
   "display_name": "Python 3",
   "language": "python",
   "name": "python3"
  },
  "language_info": {
   "codemirror_mode": {
    "name": "ipython",
    "version": 3
   },
   "file_extension": ".py",
   "mimetype": "text/x-python",
   "name": "python",
   "nbconvert_exporter": "python",
   "pygments_lexer": "ipython3",
   "version": "3.8.8"
  }
 },
 "nbformat": 4,
 "nbformat_minor": 4
}