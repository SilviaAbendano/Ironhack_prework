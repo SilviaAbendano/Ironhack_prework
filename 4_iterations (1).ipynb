{
 "cells": [
  {
   "cell_type": "markdown",
   "source": [
    "## Iterations "
   ],
   "metadata": {}
  },
  {
   "cell_type": "markdown",
   "source": [
    "### Exercise - Simple Iterations "
   ],
   "metadata": {}
  },
  {
   "cell_type": "markdown",
   "source": [
    "1. Use the `for` loop to print integers from 10 to 30."
   ],
   "metadata": {}
  },
  {
   "cell_type": "code",
   "execution_count": 4,
   "source": [
    "# your code here\n",
    "for i in range(10,31):\n",
    "    print(i)"
   ],
   "outputs": [
    {
     "output_type": "stream",
     "name": "stdout",
     "text": [
      "10\n",
      "11\n",
      "12\n",
      "13\n",
      "14\n",
      "15\n",
      "16\n",
      "17\n",
      "18\n",
      "19\n",
      "20\n",
      "21\n",
      "22\n",
      "23\n",
      "24\n",
      "25\n",
      "26\n",
      "27\n",
      "28\n",
      "29\n",
      "30\n"
     ]
    }
   ],
   "metadata": {}
  },
  {
   "cell_type": "markdown",
   "source": [
    "2. Update the previous code to print all the numbers from 10 to 30 that are multiples of 5. (These are: 5,10, 15,...)"
   ],
   "metadata": {}
  },
  {
   "cell_type": "code",
   "execution_count": 9,
   "source": [
    "# your code here\n",
    "for i in range(10,31):\n",
    "    if i%5 == 0:\n",
    "        print(i)"
   ],
   "outputs": [
    {
     "output_type": "stream",
     "name": "stdout",
     "text": [
      "10\n",
      "15\n",
      "20\n",
      "25\n",
      "30\n"
     ]
    }
   ],
   "metadata": {}
  },
  {
   "cell_type": "markdown",
   "source": [
    "3. Write a code to print this pattern. Modify the print statement in the dummy code provided:\n",
    "\n",
    "    #### Pattern\n",
    "    \n",
    "    ```\n",
    "    *\n",
    "    ***\n",
    "    *****\n",
    "    ```\n",
    "\n",
    "    #### Dummy Code\n",
    "\n",
    "    ```python\n",
    "    for i in range(1, _, _):\n",
    "        print(___)\n",
    "    ```"
   ],
   "metadata": {}
  },
  {
   "cell_type": "code",
   "execution_count": 37,
   "source": [
    "# your code here\n",
    "\n",
    "for i in range(1,4):\n",
    "    for j in range(1,i*2):\n",
    "        print(\"*\", end=' ')\n",
    "    print(\"\")"
   ],
   "outputs": [
    {
     "output_type": "stream",
     "name": "stdout",
     "text": [
      "* \n",
      "* * * \n",
      "* * * * * \n"
     ]
    }
   ],
   "metadata": {}
  },
  {
   "cell_type": "markdown",
   "source": [
    "4. Update the previous code to print the following pattern:\n",
    "\n",
    "    ```\n",
    "      *\n",
    "     ***\n",
    "    *****\n",
    "    ```"
   ],
   "metadata": {}
  },
  {
   "cell_type": "code",
   "execution_count": 40,
   "source": [
    "# your code here\n",
    "    \n",
    "for i in range(1, 3+1):\n",
    "    for space in range(1, (3-i)+1):\n",
    "        print(end=\"  \")\n",
    "   \n",
    "    while k!=(2*i-1):\n",
    "        print(\"* \", end=\"\")\n",
    "        k += 1\n",
    "        \n",
    "    k=0\n",
    "    print()"
   ],
   "outputs": [
    {
     "output_type": "stream",
     "name": "stdout",
     "text": [
      "    * \n",
      "  * * * \n",
      "* * * * * \n"
     ]
    }
   ],
   "metadata": {}
  },
  {
   "cell_type": "markdown",
   "source": [
    "5. Take a positve integer input from the user. Find the factorial of that number. Use the factorial method \n",
    "provided in the math library to check if your result is correct or not. You can use the math library to \n",
    "calculate the factorial as follows:\n",
    "\n",
    "    ```py\n",
    "    import math\n",
    "    math.factorial(n) # n is the postive integer for which we want to calculate the factorial \n",
    "    ```\n",
    "\n",
    "    Note: Factorial is defined as:\n",
    "\n",
    "    ```py\n",
    "    5! = 5*4*3*2*1    # \" ! \" is the mathematical notation for factorial\n",
    "    \n",
    "    n! = n*(n-1)*(n-2)*..........*1\n",
    "    ```"
   ],
   "metadata": {}
  },
  {
   "cell_type": "code",
   "execution_count": 58,
   "source": [
    "# your code here\n",
    "import math\n",
    "    \n",
    "n=int(input(\"Input a number to compute the factorial : \"))\n",
    "\n",
    "if n == 0:\n",
    "    print(\"1\")\n",
    "else:\n",
    "    print(math.factorial(n))\n",
    "\n"
   ],
   "outputs": [
    {
     "output_type": "stream",
     "name": "stdout",
     "text": [
      "Input a number to compute the factorial : 3\n",
      "6\n"
     ]
    }
   ],
   "metadata": {}
  },
  {
   "cell_type": "markdown",
   "source": [
    "### Exercise : Iterations on Lists"
   ],
   "metadata": {}
  },
  {
   "cell_type": "markdown",
   "source": [
    "1. Given the list:\n",
    "\n",
    "    ```py\n",
    "    x = [12, 43, 4, 1, 6, 343, 10, 34, 12, 93, 783, 330, 896, 1, 55]\n",
    "    ```\n",
    "\n",
    "   - Write a code to find only those numbers that are divisible by 3.  \n",
    "   - Write a code to find only those numbers in the list that end with the digit 3. Store the results in an empty list called \"output_list\".\n",
    "   - Find the minimum in the list `x`. Conduct your own research to see if you can use any function directly.\n",
    "   - Find the maximum in the list `x`. Conduct your own research to see if you can use any function directly."
   ],
   "metadata": {}
  },
  {
   "cell_type": "code",
   "execution_count": 49,
   "source": [
    "# your code here\n",
    "\n",
    "# Write a code to find only those numbers that are divisible by 3.\n",
    "x = [12, 43, 4, 1, 6, 343, 10, 34, 12, 93, 783, 330, 896, 1, 55]\n",
    "for i in x:\n",
    "    if int(i%3==0):\n",
    "        print([i])\n",
    "        \n",
    "# Write a code to find only those numbers in the list that end with the digit 3. Store the results in an empty list called \"output_list\"    \n",
    "\n",
    "output_list=[]\n",
    "for i in x:\n",
    "    if int(i%10==3):\n",
    "        output_list += [[i]]\n",
    "print(output_list)\n",
    "\n",
    "    "
   ],
   "outputs": [
    {
     "output_type": "stream",
     "name": "stdout",
     "text": [
      "[12]\n",
      "[6]\n",
      "[12]\n",
      "[93]\n",
      "[783]\n",
      "[330]\n",
      "[[43], [343], [93], [783]]\n"
     ]
    }
   ],
   "metadata": {}
  },
  {
   "cell_type": "markdown",
   "source": [
    "### Iterating on Dictionaries\n",
    "\n",
    "Similarly we can also iterate on the elements of a dictionary. A simple example is shown below:"
   ],
   "metadata": {}
  },
  {
   "cell_type": "markdown",
   "source": [
    "#### Exercise: Iterations on Dictionaries"
   ],
   "metadata": {}
  },
  {
   "cell_type": "markdown",
   "source": [
    "1. Given this dictionary:"
   ],
   "metadata": {}
  },
  {
   "cell_type": "code",
   "execution_count": null,
   "source": [
    "word_freq = {'love': 25, 'conversation': 1, 'every': 6, \"we're\": 1, 'plate': 1, 'sour': 1, 'jukebox': 1, 'now': 11, 'taxi': 1, 'fast': 1, 'bag': 1, 'man': 1, 'push': 3, 'baby': 14, 'going': 1, 'you': 16, \"don't\": 2, 'one': 1, 'mind': 2, 'backseat': 1, 'friends': 1, 'then': 3, 'know': 2}"
   ],
   "outputs": [],
   "metadata": {}
  },
  {
   "cell_type": "markdown",
   "source": [
    "- Iterate on the items of this dictionary to print only those keys where the freqeuncy of the word is less than 3?\n",
    "- Which is the word with the highest frequency?"
   ],
   "metadata": {}
  },
  {
   "cell_type": "code",
   "execution_count": 134,
   "source": [
    "# your code here\n",
    "from collections import defaultdict\n",
    "from collections import Counter\n",
    "\n",
    "word_freq = {'love': 25, 'conversation': 1, 'every': 6, \"we're\": 1, 'plate': 1, 'sour': 1, 'jukebox': 1, 'now': 11, 'taxi': 1, 'fast': 1, 'bag': 1, 'man': 1, 'push': 3, 'baby': 14, 'going': 1, 'you': 16, \"don't\": 2, 'one': 1, 'mind': 2, 'backseat': 1, 'friends': 1, 'then': 3, 'know': 2}\n",
    "\n",
    "\n",
    "freq= defaultdict(int)\n",
    "my_dict = Counter()\n",
    "\n",
    "for key, value in word_freq.items():\n",
    "    freq[value] += 1\n",
    "    if freq[value] < 3:\n",
    "        print(key)"
   ],
   "outputs": [
    {
     "output_type": "stream",
     "name": "stdout",
     "text": [
      "love\n",
      "conversation\n",
      "every\n",
      "we're\n",
      "now\n",
      "push\n",
      "baby\n",
      "you\n",
      "don't\n",
      "mind\n",
      "then\n"
     ]
    }
   ],
   "metadata": {}
  }
 ],
 "metadata": {
  "interpreter": {
   "hash": "31f2aee4e71d21fbe5cf8b01ff0e069b9275f58929596ceb00d14d90e3e16cd6"
  },
  "kernelspec": {
   "display_name": "Python 3",
   "language": "python",
   "name": "python3"
  },
  "language_info": {
   "codemirror_mode": {
    "name": "ipython",
    "version": 3
   },
   "file_extension": ".py",
   "mimetype": "text/x-python",
   "name": "python",
   "nbconvert_exporter": "python",
   "pygments_lexer": "ipython3",
   "version": "3.8.8"
  }
 },
 "nbformat": 4,
 "nbformat_minor": 2
}