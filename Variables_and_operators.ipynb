{
 "cells": [
  {
   "cell_type": "markdown",
   "id": "dcaeedaa",
   "metadata": {},
   "source": [
    "# 1. Exercise - Variables"
   ]
  },
  {
   "cell_type": "markdown",
   "id": "32bd7c6f",
   "metadata": {},
   "source": [
    "1.2 What is the difference between variables x1 and x3?\n",
    "\n",
    "1.3 What is the difference between variables x4 and x5?"
   ]
  },
  {
   "cell_type": "code",
   "execution_count": 5,
   "id": "1b9de8d3",
   "metadata": {
    "scrolled": true
   },
   "outputs": [
    {
     "name": "stdout",
     "output_type": "stream",
     "text": [
      "<class 'float'>\n",
      "<class 'str'>\n",
      "<class 'bool'>\n",
      "<class 'str'>\n"
     ]
    }
   ],
   "source": [
    "x1 = 1.1\n",
    "x2 = \"Ironhack\"\n",
    "x3 = \"1.1\"\n",
    "x4 = True\n",
    "x5 = \"True\"\n",
    "x6 = -1\n",
    "\n",
    "print(type(x1))\n",
    "print(type(x3))\n",
    "\n",
    "print(type(x4))\n",
    "print(type(x5))"
   ]
  },
  {
   "cell_type": "markdown",
   "id": "6f851380",
   "metadata": {},
   "source": [
    "# 2. Exercise - Operators"
   ]
  },
  {
   "cell_type": "markdown",
   "id": "530aeca1",
   "metadata": {},
   "source": [
    "2.1 In this problem we will show you how to take a user input. Use the code and then answer the questions that follow:"
   ]
  },
  {
   "cell_type": "markdown",
   "id": "05f82dff",
   "metadata": {},
   "source": [
    "Question 1: Print the values of the two variables? As you might have noticed, data type of x1 and x2 is string. Even though we entered integers, the input function converts them into string by default. Now we do some data type conversion from string to integers:\n"
   ]
  },
  {
   "cell_type": "code",
   "execution_count": 48,
   "id": "1d6c9490",
   "metadata": {},
   "outputs": [
    {
     "name": "stdout",
     "output_type": "stream",
     "text": [
      "Please enter an integer number: 1\n",
      "Please enter another integer number2\n",
      "<class 'str'>\n",
      "<class 'str'>\n"
     ]
    }
   ],
   "source": [
    "x1 = input(\"Please enter an integer number: \")\n",
    "x2 = input(\"Please enter another integer number\")\n",
    "\n",
    "print(type(x1))\n",
    "print(type(x2))\n"
   ]
  },
  {
   "cell_type": "markdown",
   "id": "0f5b5eee",
   "metadata": {},
   "source": [
    "Question 2: What is the data type of x1 and x2? Now perform simple comparisons between x1 and x2:\n"
   ]
  },
  {
   "cell_type": "code",
   "execution_count": 50,
   "id": "8465b18d",
   "metadata": {},
   "outputs": [
    {
     "name": "stdout",
     "output_type": "stream",
     "text": [
      "Please enter an integer number: 1\n",
      "Please enter another integer number2\n",
      "<class 'int'>\n",
      "<class 'int'>\n"
     ]
    }
   ],
   "source": [
    "x1 = input(\"Please enter an integer number: \")\n",
    "x2 = input(\"Please enter another integer number\")\n",
    "\n",
    "\n",
    "#covert function\n",
    "x1 = int(x1)\n",
    "x2 = int(x2)\n",
    "\n",
    "print(type(x1))\n",
    "print(type(x2))\n",
    "\n"
   ]
  },
  {
   "cell_type": "code",
   "execution_count": 51,
   "id": "af1621fc",
   "metadata": {},
   "outputs": [
    {
     "data": {
      "text/plain": [
       "False"
      ]
     },
     "execution_count": 51,
     "metadata": {},
     "output_type": "execute_result"
    }
   ],
   "source": [
    "#Check if the two variables are equal?\n",
    "\n",
    "x1 == x2"
   ]
  },
  {
   "cell_type": "code",
   "execution_count": 52,
   "id": "d1e92c9d",
   "metadata": {},
   "outputs": [
    {
     "data": {
      "text/plain": [
       "False"
      ]
     },
     "execution_count": 52,
     "metadata": {},
     "output_type": "execute_result"
    }
   ],
   "source": [
    "#Check if x1 is greater than x2?\n",
    "\n",
    "x1 > x2"
   ]
  },
  {
   "cell_type": "code",
   "execution_count": 53,
   "id": "275b72cc",
   "metadata": {},
   "outputs": [
    {
     "data": {
      "text/plain": [
       "True"
      ]
     },
     "execution_count": 53,
     "metadata": {},
     "output_type": "execute_result"
    }
   ],
   "source": [
    "#Check if x2 is greater than x1?\n",
    "\n",
    "x2 > x1"
   ]
  },
  {
   "cell_type": "code",
   "execution_count": 54,
   "id": "62ef90d8",
   "metadata": {},
   "outputs": [
    {
     "data": {
      "text/plain": [
       "True"
      ]
     },
     "execution_count": 54,
     "metadata": {},
     "output_type": "execute_result"
    }
   ],
   "source": [
    "#Check if x1 is not equal to x2?\n",
    "\n",
    "x1 != x2"
   ]
  },
  {
   "cell_type": "code",
   "execution_count": 59,
   "id": "e2956af0",
   "metadata": {},
   "outputs": [
    {
     "name": "stdout",
     "output_type": "stream",
     "text": [
      "-1\n"
     ]
    }
   ],
   "source": [
    "#Store the difference between the two variables x1 and x2 in another variable x3 (subtract the smaller number from the larger number).\n",
    "\n",
    "x3 = x1-x2\n",
    "print(x3)\n"
   ]
  },
  {
   "cell_type": "code",
   "execution_count": 72,
   "id": "413992b5",
   "metadata": {},
   "outputs": [
    {
     "name": "stdout",
     "output_type": "stream",
     "text": [
      "0\n",
      "2\n"
     ]
    }
   ],
   "source": [
    "#Increment the smaller of the two variables (x1 and x2) with the difference.Use the shorthand addition operator for the same. Again check if x1 and x2 are equal or not?\n",
    "\n",
    "x1=1\n",
    "x2=2\n",
    "\n",
    "x1+=x3\n",
    "\n",
    "print(x1)\n",
    "print(x2)\n"
   ]
  },
  {
   "cell_type": "markdown",
   "id": "7d89ab83",
   "metadata": {},
   "source": [
    "2.2 In the lesson, we talked about math library in Python. Here is a link to the math library documentation. Go through the documentation and try any 3 or more functions on a numerical variable that were not described in the lesson."
   ]
  },
  {
   "cell_type": "code",
   "execution_count": 73,
   "id": "8c37c691",
   "metadata": {},
   "outputs": [],
   "source": [
    "import math"
   ]
  },
  {
   "cell_type": "code",
   "execution_count": 75,
   "id": "5d60b522",
   "metadata": {},
   "outputs": [
    {
     "data": {
      "text/plain": [
       "22.197951281441636"
      ]
     },
     "execution_count": 75,
     "metadata": {},
     "output_type": "execute_result"
    }
   ],
   "source": [
    "math.exp(3.1)"
   ]
  },
  {
   "cell_type": "code",
   "execution_count": 77,
   "id": "01eddaaf",
   "metadata": {},
   "outputs": [
    {
     "data": {
      "text/plain": [
       "2.6390573296152584"
      ]
     },
     "execution_count": 77,
     "metadata": {},
     "output_type": "execute_result"
    }
   ],
   "source": [
    "math.log(14)"
   ]
  },
  {
   "cell_type": "code",
   "execution_count": 83,
   "id": "610ddef4",
   "metadata": {},
   "outputs": [
    {
     "data": {
      "text/plain": [
       "24"
      ]
     },
     "execution_count": 83,
     "metadata": {},
     "output_type": "execute_result"
    }
   ],
   "source": [
    "seq = range(1, 5)\n",
    "math.prod(seq)"
   ]
  }
 ],
 "metadata": {
  "kernelspec": {
   "display_name": "Python 3",
   "language": "python",
   "name": "python3"
  },
  "language_info": {
   "codemirror_mode": {
    "name": "ipython",
    "version": 3
   },
   "file_extension": ".py",
   "mimetype": "text/x-python",
   "name": "python",
   "nbconvert_exporter": "python",
   "pygments_lexer": "ipython3",
   "version": "3.8.8"
  }
 },
 "nbformat": 4,
 "nbformat_minor": 5
}
