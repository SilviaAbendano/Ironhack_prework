{
 "cells": [
  {
   "cell_type": "markdown",
   "source": [
    "## Data structures    "
   ],
   "metadata": {}
  },
  {
   "cell_type": "markdown",
   "source": [
    "### Exercises "
   ],
   "metadata": {}
  },
  {
   "cell_type": "raw",
   "source": [
    "1. Given the list:\n",
    "    lst = [1, 2, 34, 5, 3, 12, 9, 8, 67, 89, 98, 90, 39, 21, 45, 46, 23, 13]\n",
    "    \n",
    "Answer the following questions:\n",
    "    \n",
    "- How many elements are in the list?\n",
    "- Using indexes, find out which is the last element in the list?\n",
    "- What is the index of element `90` in the list?\n",
    "- Which are the first 8 elements in the list?\n",
    "- Append elements 100 and 110 to the list?\n",
    "- Use the sort function from numpy library to sort the elements in the list. \n",
    "\n",
    "2. Can a list have two or more elements equal? \n",
    "Try and test. Try to define a new list with a few similar values and see if it works. "
   ],
   "metadata": {}
  },
  {
   "cell_type": "code",
   "execution_count": 24,
   "source": [
    "import numpy as np\n",
    "\n",
    "lst = [1, 2, 34, 5, 3, 12, 9, 8, 67, 89, 98, 90, 39, 21, 45, 46, 23, 13]\n",
    "\n",
    "#How many elements are in the list?\n",
    "print(\"There are\", len(lst),\"elements in the list\")\n",
    "\n",
    "#Using indexes, find out which is the last element in the list?\n",
    "print(lst[-1])\n",
    "\n",
    "#What is the index of element `90` in the list?\n",
    "print(lst.index(90))\n",
    "\n",
    "# Which are the first 8 elements in the list?\n",
    "print(lst[:8])\n",
    "\n",
    "# Append elements 100 and 110 to the list?\n",
    "\n",
    "lst.append(100)\n",
    "lst.append(110)\n",
    "print(lst)\n",
    "\n",
    "# Use the sort function from numpy library to sort the elements in the list. \n",
    "np.sort(lst)\n",
    "\n"
   ],
   "outputs": [
    {
     "output_type": "stream",
     "name": "stdout",
     "text": [
      "There are 18 elements in the list\n",
      "13\n",
      "11\n",
      "[1, 2, 34, 5, 3, 12, 9, 8]\n",
      "[1, 2, 34, 5, 3, 12, 9, 8, 67, 89, 98, 90, 39, 21, 45, 46, 23, 13, 100, 110]\n"
     ]
    },
    {
     "output_type": "execute_result",
     "data": {
      "text/plain": [
       "array([  1,   2,   3,   5,   8,   9,  12,  13,  21,  23,  34,  39,  45,\n",
       "        46,  67,  89,  90,  98, 100, 110])"
      ]
     },
     "metadata": {},
     "execution_count": 24
    }
   ],
   "metadata": {}
  },
  {
   "cell_type": "code",
   "execution_count": 33,
   "source": [
    "#2. Can a list have two or more elements equal? \n",
    "\n",
    "# Answer: Yes a list can have two or more equal elements.\n",
    "\n",
    "\n",
    "#Try and test. Try to define a new list with a few similar values and see if it works.\n",
    "\n",
    "import numpy as np\n",
    "lst_new = [20, 20, 30, 42, 66, 42, 20, \"hello\", \"bye\", \"hello\"]\n",
    "\n",
    "print(type(lst_new))\n",
    "np.sort(lst_new)"
   ],
   "outputs": [
    {
     "output_type": "stream",
     "name": "stdout",
     "text": [
      "<class 'list'>\n"
     ]
    },
    {
     "output_type": "execute_result",
     "data": {
      "text/plain": [
       "array(['20', '20', '20', '30', '42', '42', '66', 'bye', 'hello', 'hello'],\n",
       "      dtype='<U21')"
      ]
     },
     "metadata": {},
     "execution_count": 33
    }
   ],
   "metadata": {}
  }
 ],
 "metadata": {
  "kernelspec": {
   "display_name": "Python 3",
   "language": "python",
   "name": "python3"
  },
  "language_info": {
   "codemirror_mode": {
    "name": "ipython",
    "version": 3
   },
   "file_extension": ".py",
   "mimetype": "text/x-python",
   "name": "python",
   "nbconvert_exporter": "python",
   "pygments_lexer": "ipython3",
   "version": "3.8.8"
  }
 },
 "nbformat": 4,
 "nbformat_minor": 2
}