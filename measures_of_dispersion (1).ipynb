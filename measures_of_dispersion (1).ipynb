{
 "cells": [
  {
   "cell_type": "markdown",
   "source": [
    "### Exercise "
   ],
   "metadata": {}
  },
  {
   "cell_type": "raw",
   "source": [
    "1. What is the range for the data set\n",
    "    points = [-4,  17,  25,  19,  6,  11,  7]\n",
    "    \n",
    "2. You are given the following dataset:\n",
    "    \n",
    "    data = [2,4,7,1,6,8]\n",
    "    \n",
    "    How does the standard deviation change when 6 is replaced with 12 ? Does it increase, or decrease, or it remains the same?\n",
    "    \n",
    "\n",
    "3. Is is possile to have a dataset with 0 standard deviation or variance? If yes, can you think of any dataset with 6 data points that have 0 standard deviation?\n",
    "\n",
    "\n",
    "4. We know that standard deviation is a measure of spread in the dataset. What is meant by deviation here?\n",
    "\n",
    "\n",
    "5. Given the dataset in the list:\n",
    "    data = [23, 12, 34, 65, 34, 81]\n",
    "    What is the deviation from the mean for each of the points in the list. Write a for loop and print each of the values \n",
    "    \n",
    "    \n",
    "6. How is standard deviation different than variance ?   "
   ],
   "metadata": {}
  },
  {
   "cell_type": "code",
   "execution_count": 1,
   "source": [
    "#1. What is the range for the data set\n",
    "points = [-4,  17,  25,  19,  6,  11,  7]\n",
    "    \n",
    "range= max(points) - min(points) \n",
    "print(range)"
   ],
   "outputs": [
    {
     "output_type": "stream",
     "name": "stdout",
     "text": [
      "29\n"
     ]
    }
   ],
   "metadata": {}
  },
  {
   "cell_type": "code",
   "execution_count": 4,
   "source": [
    "#2. You are given the following dataset:\n",
    "import statistics as stats\n",
    "\n",
    "data = [2,4,7,1,6,8]\n",
    "data_new = [2,4,7,1,12,8]  \n",
    "#How does the standard deviation change when 6 is replaced with 12 ? Does it increase, or decrease, or it remains the same?\n",
    "    \n",
    "print(stats.stdev(data))\n",
    "print(stats.stdev(data_new))\n",
    "\n",
    "#Answer: when 6 is replaced by 12, the standard deviation increases from 2.8 to 4.1.\n"
   ],
   "outputs": [
    {
     "output_type": "stream",
     "name": "stdout",
     "text": [
      "2.804757862395017\n",
      "4.131182235954578\n"
     ]
    }
   ],
   "metadata": {}
  },
  {
   "cell_type": "code",
   "execution_count": 6,
   "source": [
    "#3. Is is possile to have a dataset with 0 standard deviation or variance? If yes, can you think of any dataset with 6 data points that have 0 standard deviation?\n",
    "import statistics as stats\n",
    "\n",
    "#Yes, it is possible when the data points do not deviate, meaning they are all the same.\n",
    "\n",
    "data = [2,2,2,2,2,2]\n",
    "print(stats.stdev(data))\n",
    "print(stats.variance(data))\n",
    "\n",
    "#4. We know that standard deviation is a measure of spread in the dataset. What is meant by deviation here?\n",
    "\n",
    "#Deviation means the difference from a given data point with another data point, which is usually the mean.\n"
   ],
   "outputs": [
    {
     "output_type": "stream",
     "name": "stdout",
     "text": [
      "0.0\n",
      "0\n"
     ]
    }
   ],
   "metadata": {}
  },
  {
   "cell_type": "code",
   "execution_count": 34,
   "source": [
    "#5. Given the dataset in the list:\n",
    "import statistics as stats\n",
    "\n",
    "data = [23, 12, 34, 65, 34, 81]\n",
    "print(len(data))\n",
    "#What is the deviation from the mean for each of the points in the list. Write a for loop and print each of the values \n",
    "\n",
    "dev = stats.stdev(data)\n",
    "\n",
    "for i in data:\n",
    "    dev1= dev - data[0]\n",
    "    print(dev1)\n",
    "    \n",
    "    dev2= dev - data[1]\n",
    "    print(dev2)\n",
    "    \n",
    "    dev3= dev - data[2]\n",
    "    print(dev3)\n",
    "    \n",
    "    dev4= dev - data[3]\n",
    "    print(dev4)\n",
    "    \n",
    "    dev5= dev - data[4]\n",
    "    print(dev5)\n",
    "    \n",
    "    dev6= dev - data[5]\n",
    "    print(dev6)\n",
    "    break\n",
    "    \n",
    "#6. How is standard deviation different than variance ?   \n",
    "\n",
    "# The variance is the squared value of the standard deviation"
   ],
   "outputs": [
    {
     "output_type": "stream",
     "name": "stdout",
     "text": [
      "6\n",
      "3.2202212042537894\n",
      "14.22022120425379\n",
      "-7.779778795746211\n",
      "-38.77977879574621\n",
      "-7.779778795746211\n",
      "-54.77977879574621\n"
     ]
    }
   ],
   "metadata": {}
  }
 ],
 "metadata": {
  "kernelspec": {
   "display_name": "Python 3",
   "language": "python",
   "name": "python3"
  },
  "language_info": {
   "codemirror_mode": {
    "name": "ipython",
    "version": 3
   },
   "file_extension": ".py",
   "mimetype": "text/x-python",
   "name": "python",
   "nbconvert_exporter": "python",
   "pygments_lexer": "ipython3",
   "version": "3.8.8"
  }
 },
 "nbformat": 4,
 "nbformat_minor": 2
}